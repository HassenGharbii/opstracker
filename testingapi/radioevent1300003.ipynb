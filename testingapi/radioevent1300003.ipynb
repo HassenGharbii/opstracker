{
 "cells": [
  {
   "cell_type": "code",
   "execution_count": 1,
   "id": "6038229e",
   "metadata": {},
   "outputs": [],
   "source": [
    "# !pip install numpy \n",
    "# !pip install matplotlib\n",
    "# !pip install seaborn"
   ]
  },
  {
   "cell_type": "markdown",
   "id": "c7849295",
   "metadata": {},
   "source": [
    "\n",
    "This Jupyter Notebook analyzes radio communication event data from the file \"Radio Event 1300003.csv\". The dataset logs events from a radio or dispatch system, capturing details like event timestamps, call types, durations, operator IDs, and statuses. The goal is to provide insights into system usage, efficiency, and performance through key performance indicators (KPIs) and visualizations.\n",
    "## Objectives\n",
    "- Load and validate the data into a pandas DataFrame (`df`).\n",
    "- Calculate KPIs to summarize system activity.\n",
    "- Create visualizations to explore trends and patterns.\n",
    "- Provide detailed explanations for each step to aid understanding.\n",
    "## Dataset Description\n",
    "The data contains columns such as:\n",
    "- `evid`: Unique event ID.\n",
    "- `dt`: Timestamp of the event (e.g., `2025-05-19 11:31:24.617`).\n",
    "- `opid`: Operator ID.\n",
    "- `grpname`: Call type (e.g., \"All Call\" or individual call).\n",
    "- `duration`: Call duration in seconds.\n",
    "- `statusid`: Event status (e.g., 1, 3, 5, possibly indicating initiated, failed, or completed).\n",
    "- Other metadata like `source_name`, `target_name`, and `channel_id`.\n",
    "\n",
    "This analysis is useful for system administrators, dispatch managers, or analysts to optimize resource allocation, identify bottlenecks, and ensure reliable communication.\n"
   ]
  },
  {
   "cell_type": "code",
   "execution_count": 4,
   "id": "4d1faac1",
   "metadata": {},
   "outputs": [],
   "source": [
    "import pandas as pd\n",
    "import matplotlib.pyplot as plt\n",
    "import seaborn as sns\n",
    "\n",
    "# Set a consistent style for plots to enhance readability\n"
   ]
  },
  {
   "cell_type": "code",
   "execution_count": 5,
   "id": "72af6c6e",
   "metadata": {},
   "outputs": [
    {
     "name": "stdout",
     "output_type": "stream",
     "text": [
      "DataFrame Loaded Successfully\n",
      "Shape: 16 rows, 33 columns\n",
      "Columns: evid, dt, opid, dispid, rsname, mcssn, mcsname, msuid, msuname, grpname, typeid, direction, statusid, description, duration, notRead, recorded, media, extdispid, soundfile, trgid, trgname, grpid, loneworker, addInfo, sourceid, userName, source_name, target_name, source_uid, target_uid, channel_id, is_server_event\n",
      "\n",
      "First Few Rows:\n",
      "     evid                       dt  opid                            dispid   rsname       mcssn     mcsname  msuid  msuname   grpname  typeid  direction  statusid            description  duration  notRead  recorded  media  extdispid  soundfile  trgid  trgname  grpid  loneworker  addInfo  sourceid  userName  source_name target_name                      source_uid                     target_uid  channel_id  is_server_event\n",
      "0  171244  2025-05-19 11:31:24.617     1  bc0599df84a340d6a428da8322e22082  Central  511TSD4885  VOIX TUNIS    NaN      NaN       NaN       0          0         1            Tunis (1:1)         0        0         0      3        NaN        NaN    NaN      NaN    NaN           0      NaN         0       NaN      1300003  VOIX TUNIS  dmr:1300003@subscribers.global    dmr:6505@subscribers.global    17826016                0\n",
      "1  171245  2025-05-19 11:31:24.617     1  bc0599df84a340d6a428da8322e22082  Central  511TSD4885  VOIX TUNIS    NaN      NaN  All Call       1          0         5  Tunis (1:1) (1300003)         2        0         0      0        NaN        NaN    NaN      NaN    NaN           0      NaN         0       NaN      1300003    All Call  dmr:1300003@subscribers.global  dmr:all@wides.17826016.global    17826016                0\n",
      "2  171246  2025-05-19 11:31:27.063     1  bc0599df84a340d6a428da8322e22082  Central  511TSD4885  VOIX TUNIS    NaN      NaN  All Call       1          0         5  Tunis (1:1) (1300003)         2        0         0      0        NaN        NaN    NaN      NaN    NaN           0      NaN         0       NaN      1300003    All Call  dmr:1300003@subscribers.global  dmr:all@wides.17826016.global    17826016                0\n",
      "3  171247  2025-05-19 11:32:59.107     1  bc0599df84a340d6a428da8322e22082  Central  511TSD4885  VOIX TUNIS    NaN      NaN  All Call       1          0         5  Tunis (1:1) (1300003)         2        0         0      0        NaN        NaN    NaN      NaN    NaN           0      NaN         0       NaN      1300003    All Call  dmr:1300003@subscribers.global  dmr:all@wides.17826016.global    17826016                0\n",
      "4  171248  2025-05-19 11:33:07.870     1  bc0599df84a340d6a428da8322e22082  Central  511TSD4885  VOIX TUNIS    NaN      NaN  All Call       1          0         5  Tunis (1:1) (1300003)         1        0         0      0        NaN        NaN    NaN      NaN    NaN           0      NaN         0       NaN      1300003    All Call  dmr:1300003@subscribers.global  dmr:all@wides.17826016.global    17826016                0\n"
     ]
    }
   ],
   "source": [
    "df = pd.read_csv(\"Radio Event 1300003.csv\", sep=\";\")\n",
    "print(\"DataFrame Loaded Successfully\")\n",
    "print(f\"Shape: {df.shape[0]} rows, {df.shape[1]} columns\")\n",
    "print(\"Columns:\", \", \".join(df.columns))\n",
    "print(\"\\nFirst Few Rows:\")\n",
    "print(df.head().to_string())\n"
   ]
  },
  {
   "cell_type": "code",
   "execution_count": 6,
   "id": "6d205542",
   "metadata": {},
   "outputs": [],
   "source": [
    "df['dt'] = pd.to_datetime(df['dt'], format='%Y-%m-%d %H:%M:%S.%f', errors='coerce')\n"
   ]
  },
  {
   "cell_type": "markdown",
   "id": "17686409",
   "metadata": {},
   "source": [
    "### KPIs\n",
    "1. **Total Events**: Total number of communication events.\n",
    "2. **Average Call Duration**: Mean duration of calls (in seconds).\n",
    "3. **Peak Activity Hour**: Hour with the most events, indicating busiest time.\n",
    "4. **All Call Percentage**: Percentage of events that are \"All Call\" (broadcasts to all users).\n",
    "\n",
    "### Why These KPIs?\n",
    "- **Total Events**: Measures overall system activity.\n",
    "- **Average Call Duration**: Indicates efficiency of communications.\n",
    "- **Peak Activity Hour**: Helps with staffing and resource planning.\n",
    "- **All Call Percentage**: Shows reliance on broadcasts vs. individual calls."
   ]
  },
  {
   "cell_type": "code",
   "execution_count": 8,
   "id": "f3388199",
   "metadata": {
    "vscode": {
     "languageId": "markdown"
    }
   },
   "outputs": [
    {
     "name": "stdout",
     "output_type": "stream",
     "text": [
      "\n",
      "KPI 1: Total Events\n",
      "Total number of communication events: 16\n",
      "\n",
      "KPI 2: Average Call Duration\n",
      "Average duration of calls: 1.12 seconds\n",
      "\n",
      "KPI 3: Peak Activity Hour\n",
      "Hour with most events: 11:00\n",
      "Number of events in peak hour: 16\n",
      "Events per hour:\n",
      " hour\n",
      "11    16\n",
      "\n",
      "KPI 4: All Call Percentage\n"
     ]
    }
   ],
   "source": [
    "\n",
    "\n",
    "# Create a subset of data with valid datetime values for time-based analysis\n",
    "df_valid_dt = df[df['dt'].notna()]\n",
    "\n",
    "# KPI 1: Total number of events\n",
    "total_events = len(df)\n",
    "print(\"\\nKPI 1: Total Events\")\n",
    "print(f\"Total number of communication events: {total_events}\")\n",
    "\n",
    "# KPI 2: Average call duration\n",
    "avg_duration = df['duration'].mean()\n",
    "print(\"\\nKPI 2: Average Call Duration\")\n",
    "print(f\"Average duration of calls: {avg_duration:.2f} seconds\")\n",
    "\n",
    "# KPI 3: Peak activity period (hour with most events)\n",
    "if not df_valid_dt.empty:\n",
    "    df_valid_dt['hour'] = df_valid_dt['dt'].dt.hour\n",
    "    hour_counts = df_valid_dt['hour'].value_counts().sort_index()\n",
    "    peak_hour = hour_counts.idxmax()\n",
    "    peak_hour_events = hour_counts.max()\n",
    "    print(\"\\nKPI 3: Peak Activity Hour\")\n",
    "    print(f\"Hour with most events: {peak_hour}:00\")\n",
    "    print(f\"Number of events in peak hour: {peak_hour_events}\")\n",
    "    print(\"Events per hour:\\n\", hour_counts.to_string())\n",
    "else:\n",
    "    print(\"\\nKPI 3: Peak Activity Hour\")\n",
    "    print(\"No valid datetime data available for peak hour analysis.\")\n",
    "\n",
    "# KPI 4: Percentage of \"All Call\" events\n",
    "all_call_count = len(df[df['grpname'] == 'All Call'])\n",
    "all_call_percentage = (all_call_count / total_events) * 100 if total_events > 0 else 0\n",
    "print(\"\\nKPI 4: All Call Percentage\")"
   ]
  }
 ],
 "metadata": {
  "kernelspec": {
   "display_name": "Python 3",
   "language": "python",
   "name": "python3"
  },
  "language_info": {
   "codemirror_mode": {
    "name": "ipython",
    "version": 3
   },
   "file_extension": ".py",
   "mimetype": "text/x-python",
   "name": "python",
   "nbconvert_exporter": "python",
   "pygments_lexer": "ipython3",
   "version": "3.10.12"
  }
 },
 "nbformat": 4,
 "nbformat_minor": 5
}
